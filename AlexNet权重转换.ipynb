{
 "cells": [
  {
   "cell_type": "code",
   "execution_count": 29,
   "id": "0518f8c5",
   "metadata": {},
   "outputs": [],
   "source": [
    "import torchvision.models as models\n",
    "import torch"
   ]
  },
  {
   "cell_type": "code",
   "execution_count": 2,
   "id": "b72338cf",
   "metadata": {},
   "outputs": [
    {
     "name": "stderr",
     "output_type": "stream",
     "text": [
      "Downloading: \"https://download.pytorch.org/models/alexnet-owt-7be5be79.pth\" to /Users/mac/.cache/torch/hub/checkpoints/alexnet-owt-7be5be79.pth\n"
     ]
    },
    {
     "data": {
      "application/vnd.jupyter.widget-view+json": {
       "model_id": "b6ea9b25eebc40d99ad3cf0c591ed2de",
       "version_major": 2,
       "version_minor": 0
      },
      "text/plain": [
       "  0%|          | 0.00/233M [00:00<?, ?B/s]"
      ]
     },
     "metadata": {},
     "output_type": "display_data"
    }
   ],
   "source": [
    "model = models.alexnet(pretrained=True)"
   ]
  },
  {
   "cell_type": "code",
   "execution_count": 4,
   "id": "a39e1630",
   "metadata": {},
   "outputs": [],
   "source": [
    "torch.save(model.state_dict(), 'alexnet-torch.pth')"
   ]
  },
  {
   "cell_type": "code",
   "execution_count": 5,
   "id": "75f7cf9d",
   "metadata": {},
   "outputs": [],
   "source": [
    "npy=[]\n",
    "for k, v in model.state_dict().items():\n",
    "    npy.append(v.numpy())"
   ]
  },
  {
   "cell_type": "code",
   "execution_count": 37,
   "id": "6b4b1f08",
   "metadata": {},
   "outputs": [
    {
     "data": {
      "text/plain": [
       "AlexNet(\n",
       "  (features): Sequential(\n",
       "    (0): Conv2D(3, 64, kernel_size=[11, 11], stride=[4, 4], padding=2, data_format=NCHW)\n",
       "    (1): ReLU()\n",
       "    (2): MaxPool2D(kernel_size=3, stride=2, padding=0)\n",
       "    (3): Conv2D(64, 192, kernel_size=[5, 5], padding=2, data_format=NCHW)\n",
       "    (4): ReLU()\n",
       "    (5): MaxPool2D(kernel_size=3, stride=2, padding=0)\n",
       "    (6): Conv2D(192, 384, kernel_size=[3, 3], padding=1, data_format=NCHW)\n",
       "    (7): ReLU()\n",
       "    (8): Conv2D(384, 256, kernel_size=[3, 3], padding=1, data_format=NCHW)\n",
       "    (9): ReLU()\n",
       "    (10): Conv2D(256, 256, kernel_size=[3, 3], padding=1, data_format=NCHW)\n",
       "    (11): ReLU()\n",
       "    (12): MaxPool2D(kernel_size=3, stride=2, padding=0)\n",
       "  )\n",
       "  (avgpool): AdaptiveAvgPool2D(output_size=(6, 6))\n",
       "  (classifier): Sequential(\n",
       "    (0): Dropout(p=0.5, axis=None, mode=upscale_in_train)\n",
       "    (1): Linear(in_features=9216, out_features=4096, dtype=float32)\n",
       "    (2): ReLU()\n",
       "    (3): Dropout(p=0.5, axis=None, mode=upscale_in_train)\n",
       "    (4): Linear(in_features=4096, out_features=4096, dtype=float32)\n",
       "    (5): ReLU()\n",
       "    (6): Linear(in_features=4096, out_features=1000, dtype=float32)\n",
       "  )\n",
       ")"
      ]
     },
     "execution_count": 37,
     "metadata": {},
     "output_type": "execute_result"
    }
   ],
   "source": [
    "import model.AlexNet as alexnet\n",
    "from model.AlexNet import alexnet\n",
    "pp_model = alexnet()\n",
    "pp_model"
   ]
  },
  {
   "cell_type": "code",
   "execution_count": 40,
   "id": "7631b56c",
   "metadata": {},
   "outputs": [
    {
     "name": "stdout",
     "output_type": "stream",
     "text": [
      "(9216, 4096)\t(4096, 9216)\n",
      "(4096, 1000)\t(1000, 4096)\n"
     ]
    }
   ],
   "source": [
    "weight = {}\n",
    "i = 0\n",
    "for key, value in pp_model.state_dict().items():\n",
    "    if(value.numpy().shape != tuple(npy[i].shape)):\n",
    "        print(str(value.numpy().shape) + \"\\t\" + str(npy[i].shape))\n",
    "        weight[key] = npy[i].T\n",
    "    else:\n",
    "        weight[key] = npy[i]\n",
    "    i = i + 1\n",
    "\n",
    "pp_model.load_dict(weight)\n",
    "import paddle\n",
    "paddle.save(pp_model.state_dict(), 'alexnet-torch2paddle.padparams')"
   ]
  },
  {
   "cell_type": "code",
   "execution_count": 45,
   "id": "ff222dec",
   "metadata": {},
   "outputs": [
    {
     "name": "stdout",
     "output_type": "stream",
     "text": [
      "features.0.weight\n",
      "features.0.bias\n",
      "features.3.weight\n",
      "features.3.bias\n",
      "features.6.weight\n",
      "features.6.bias\n",
      "features.8.weight\n",
      "features.8.bias\n",
      "features.10.weight\n",
      "features.10.bias\n",
      "classifier.1.weight\n",
      "classifier.1.bias\n",
      "classifier.4.weight\n",
      "classifier.4.bias\n",
      "classifier.6.weight\n",
      "classifier.6.bias\n"
     ]
    }
   ],
   "source": [
    "for name, key in pp_model.state_dict().items():\n",
    "    print(name)"
   ]
  },
  {
   "cell_type": "code",
   "execution_count": 1,
   "id": "5e08c462",
   "metadata": {},
   "outputs": [],
   "source": [
    "from model.AlexNet import alexnet\n",
    "from model.AlexNet_torch import alexnet as alexnet_torch"
   ]
  },
  {
   "cell_type": "code",
   "execution_count": 2,
   "id": "54b1b326",
   "metadata": {},
   "outputs": [
    {
     "name": "stdout",
     "output_type": "stream",
     "text": [
      "features.0.weight                       (64, 3, 11, 11)\n",
      "features.0.bias                         (64,)\n",
      "features.3.weight                       (192, 64, 5, 5)\n",
      "features.3.bias                         (192,)\n",
      "features.6.weight                       (384, 192, 3, 3)\n",
      "features.6.bias                         (384,)\n",
      "features.8.weight                       (256, 384, 3, 3)\n",
      "features.8.bias                         (256,)\n",
      "features.10.weight                      (256, 256, 3, 3)\n",
      "features.10.bias                        (256,)\n",
      "classifier.1.weight                     (4096, 9216)\n",
      "classifier.1.bias                       (4096,)\n",
      "classifier.4.weight                     (4096, 4096)\n",
      "classifier.4.bias                       (4096,)\n",
      "classifier.6.weight                     (1000, 4096)\n",
      "classifier.6.bias                       (1000,)\n"
     ]
    }
   ],
   "source": [
    "model = alexnet(False)\n",
    "model_torch = alexnet_torch(True)\n",
    "for k, v in model_torch.state_dict().items():\n",
    "    v = v.numpy()\n",
    "    print(str(k) + \" \"*(40 - len(str(k))) + str(v.shape))"
   ]
  },
  {
   "cell_type": "code",
   "execution_count": 3,
   "id": "16a73795",
   "metadata": {},
   "outputs": [
    {
     "name": "stdout",
     "output_type": "stream",
     "text": [
      "_conv1._conv.weight                     (64, 3, 11, 11)\n",
      "_conv1._conv.bias                       (64,)\n",
      "_conv2._conv.weight                     (192, 64, 5, 5)\n",
      "_conv2._conv.bias                       (192,)\n",
      "_conv3.weight                           (384, 192, 3, 3)\n",
      "_conv3.bias                             (384,)\n",
      "_conv4.weight                           (256, 384, 3, 3)\n",
      "_conv4.bias                             (256,)\n",
      "_conv5._conv.weight                     (256, 256, 3, 3)\n",
      "_conv5._conv.bias                       (256,)\n",
      "_fc6.weight                             (9216, 4096)\n",
      "_fc6.bias                               (4096,)\n",
      "_fc7.weight                             (4096, 4096)\n",
      "_fc7.bias                               (4096,)\n",
      "_fc8.weight                             (4096, 1000)\n",
      "_fc8.bias                               (1000,)\n"
     ]
    }
   ],
   "source": [
    "for k, v in model.state_dict().items():\n",
    "    v = v.numpy()\n",
    "    print(str(k) + \" \"*(40 - len(str(k))) + str(v.shape))"
   ]
  },
  {
   "cell_type": "code",
   "execution_count": 7,
   "id": "b777063d",
   "metadata": {},
   "outputs": [],
   "source": [
    "npy=[]\n",
    "for k, v in model_torch.state_dict().items():\n",
    "    npy.append(v.numpy())\n",
    "\n",
    "weight = {}\n",
    "\n",
    "i = 0\n",
    "for k, v in model.state_dict().items():\n",
    "    if(v.numpy().shape != tuple(npy[i].shape)):\n",
    "        weight[k] = npy[i].T\n",
    "    else:\n",
    "        weight[k] = npy[i]\n",
    "    i = i + 1\n",
    "    \n",
    "import paddle\n",
    "paddle.save(model.state_dict(), 'alexnet-paddle.pdparams')"
   ]
  },
  {
   "cell_type": "code",
   "execution_count": 10,
   "id": "13d0d7a8",
   "metadata": {},
   "outputs": [],
   "source": [
    "model.load_dict(weight)"
   ]
  },
  {
   "cell_type": "code",
   "execution_count": 11,
   "id": "4ed5b718",
   "metadata": {},
   "outputs": [
    {
     "name": "stdout",
     "output_type": "stream",
     "text": [
      "(9216, 4096)\t(4096, 9216)\n",
      "(4096, 1000)\t(1000, 4096)\n"
     ]
    }
   ],
   "source": [
    "npy=[]\n",
    "for k, v in model_torch.state_dict().items():\n",
    "    npy.append(v.numpy())\n",
    "\n",
    "weight = {}\n",
    "\n",
    "i = 0\n",
    "for key, value in model.state_dict().items():\n",
    "    if(value.numpy().shape != tuple(npy[i].shape)):\n",
    "        print(str(value.numpy().shape) + \"\\t\" + str(npy[i].shape))\n",
    "        weight2[key] = npy[i]\n",
    "        weight[key] = npy[i].T\n",
    "    else:\n",
    "        weight2[key] = npy[i]\n",
    "        weight[key] = npy[i]\n",
    "    i = i + 1\n",
    "\n",
    "model.load_dict(weight)\n",
    "import paddle\n",
    "paddle.save(model.state_dict(), 'alexnet-paddlerename.padparams')"
   ]
  },
  {
   "cell_type": "code",
   "execution_count": 1,
   "id": "ec92a992",
   "metadata": {},
   "outputs": [],
   "source": [
    "import torch\n",
    "import paddle\n",
    "state_dict_torch = torch.load(\"weights/alexnet-torch.pth\")\n",
    "\n",
    "npy=[]\n",
    "for k, v in state_dict_torch.items():\n",
    "    npy.append(v.numpy())"
   ]
  },
  {
   "cell_type": "code",
   "execution_count": 6,
   "id": "3f24e164",
   "metadata": {},
   "outputs": [
    {
     "ename": "TypeError",
     "evalue": "'int' object is not callable",
     "output_type": "error",
     "traceback": [
      "\u001b[0;31m---------------------------------------------------------------------------\u001b[0m",
      "\u001b[0;31mTypeError\u001b[0m                                 Traceback (most recent call last)",
      "\u001b[0;32m~/opt/miniconda3/envs/Visualize-PP/lib/python3.9/site-packages/torch/nn/modules/module.py\u001b[0m in \u001b[0;36m_load_from_state_dict\u001b[0;34m(self, state_dict, prefix, local_metadata, strict, missing_keys, unexpected_keys, error_msgs)\u001b[0m\n\u001b[1;32m   1397\u001b[0m                     \u001b[0;32mwith\u001b[0m \u001b[0mtorch\u001b[0m\u001b[0;34m.\u001b[0m\u001b[0mno_grad\u001b[0m\u001b[0;34m(\u001b[0m\u001b[0;34m)\u001b[0m\u001b[0;34m:\u001b[0m\u001b[0;34m\u001b[0m\u001b[0;34m\u001b[0m\u001b[0m\n\u001b[0;32m-> 1398\u001b[0;31m                         \u001b[0mparam\u001b[0m\u001b[0;34m.\u001b[0m\u001b[0mcopy_\u001b[0m\u001b[0;34m(\u001b[0m\u001b[0minput_param\u001b[0m\u001b[0;34m)\u001b[0m\u001b[0;34m\u001b[0m\u001b[0;34m\u001b[0m\u001b[0m\n\u001b[0m\u001b[1;32m   1399\u001b[0m                 \u001b[0;32mexcept\u001b[0m \u001b[0mException\u001b[0m \u001b[0;32mas\u001b[0m \u001b[0mex\u001b[0m\u001b[0;34m:\u001b[0m\u001b[0;34m\u001b[0m\u001b[0;34m\u001b[0m\u001b[0m\n",
      "\u001b[0;31mTypeError\u001b[0m: copy_(): argument 'other' (position 1) must be Tensor, not numpy.ndarray",
      "\nDuring handling of the above exception, another exception occurred:\n",
      "\u001b[0;31mTypeError\u001b[0m                                 Traceback (most recent call last)",
      "\u001b[0;32m/var/folders/5p/wydclj_55gjb45fkffsd8nd80000gn/T/ipykernel_6268/375647515.py\u001b[0m in \u001b[0;36m<module>\u001b[0;34m\u001b[0m\n\u001b[1;32m     11\u001b[0m     \u001b[0mi\u001b[0m \u001b[0;34m=\u001b[0m \u001b[0mi\u001b[0m \u001b[0;34m+\u001b[0m \u001b[0;36m1\u001b[0m\u001b[0;34m\u001b[0m\u001b[0;34m\u001b[0m\u001b[0m\n\u001b[1;32m     12\u001b[0m \u001b[0mtorch\u001b[0m\u001b[0;34m.\u001b[0m\u001b[0msave\u001b[0m\u001b[0;34m(\u001b[0m\u001b[0mweight\u001b[0m \u001b[0;34m,\u001b[0m\u001b[0;34m'tmp.pkl'\u001b[0m\u001b[0;34m)\u001b[0m\u001b[0;34m\u001b[0m\u001b[0;34m\u001b[0m\u001b[0m\n\u001b[0;32m---> 13\u001b[0;31m \u001b[0mmodel_torch\u001b[0m\u001b[0;34m.\u001b[0m\u001b[0mload_state_dict\u001b[0m\u001b[0;34m(\u001b[0m\u001b[0mtorch\u001b[0m\u001b[0;34m.\u001b[0m\u001b[0mload\u001b[0m\u001b[0;34m(\u001b[0m\u001b[0;34m\"tmp.pkl\"\u001b[0m\u001b[0;34m)\u001b[0m\u001b[0;34m)\u001b[0m\u001b[0;34m\u001b[0m\u001b[0;34m\u001b[0m\u001b[0m\n\u001b[0m",
      "\u001b[0;32m~/opt/miniconda3/envs/Visualize-PP/lib/python3.9/site-packages/torch/nn/modules/module.py\u001b[0m in \u001b[0;36mload_state_dict\u001b[0;34m(self, state_dict, strict)\u001b[0m\n\u001b[1;32m   1466\u001b[0m                     \u001b[0mload\u001b[0m\u001b[0;34m(\u001b[0m\u001b[0mchild\u001b[0m\u001b[0;34m,\u001b[0m \u001b[0mprefix\u001b[0m \u001b[0;34m+\u001b[0m \u001b[0mname\u001b[0m \u001b[0;34m+\u001b[0m \u001b[0;34m'.'\u001b[0m\u001b[0;34m)\u001b[0m\u001b[0;34m\u001b[0m\u001b[0;34m\u001b[0m\u001b[0m\n\u001b[1;32m   1467\u001b[0m \u001b[0;34m\u001b[0m\u001b[0m\n\u001b[0;32m-> 1468\u001b[0;31m         \u001b[0mload\u001b[0m\u001b[0;34m(\u001b[0m\u001b[0mself\u001b[0m\u001b[0;34m)\u001b[0m\u001b[0;34m\u001b[0m\u001b[0;34m\u001b[0m\u001b[0m\n\u001b[0m\u001b[1;32m   1469\u001b[0m         \u001b[0;32mdel\u001b[0m \u001b[0mload\u001b[0m\u001b[0;34m\u001b[0m\u001b[0;34m\u001b[0m\u001b[0m\n\u001b[1;32m   1470\u001b[0m \u001b[0;34m\u001b[0m\u001b[0m\n",
      "\u001b[0;32m~/opt/miniconda3/envs/Visualize-PP/lib/python3.9/site-packages/torch/nn/modules/module.py\u001b[0m in \u001b[0;36mload\u001b[0;34m(module, prefix)\u001b[0m\n\u001b[1;32m   1464\u001b[0m             \u001b[0;32mfor\u001b[0m \u001b[0mname\u001b[0m\u001b[0;34m,\u001b[0m \u001b[0mchild\u001b[0m \u001b[0;32min\u001b[0m \u001b[0mmodule\u001b[0m\u001b[0;34m.\u001b[0m\u001b[0m_modules\u001b[0m\u001b[0;34m.\u001b[0m\u001b[0mitems\u001b[0m\u001b[0;34m(\u001b[0m\u001b[0;34m)\u001b[0m\u001b[0;34m:\u001b[0m\u001b[0;34m\u001b[0m\u001b[0;34m\u001b[0m\u001b[0m\n\u001b[1;32m   1465\u001b[0m                 \u001b[0;32mif\u001b[0m \u001b[0mchild\u001b[0m \u001b[0;32mis\u001b[0m \u001b[0;32mnot\u001b[0m \u001b[0;32mNone\u001b[0m\u001b[0;34m:\u001b[0m\u001b[0;34m\u001b[0m\u001b[0;34m\u001b[0m\u001b[0m\n\u001b[0;32m-> 1466\u001b[0;31m                     \u001b[0mload\u001b[0m\u001b[0;34m(\u001b[0m\u001b[0mchild\u001b[0m\u001b[0;34m,\u001b[0m \u001b[0mprefix\u001b[0m \u001b[0;34m+\u001b[0m \u001b[0mname\u001b[0m \u001b[0;34m+\u001b[0m \u001b[0;34m'.'\u001b[0m\u001b[0;34m)\u001b[0m\u001b[0;34m\u001b[0m\u001b[0;34m\u001b[0m\u001b[0m\n\u001b[0m\u001b[1;32m   1467\u001b[0m \u001b[0;34m\u001b[0m\u001b[0m\n\u001b[1;32m   1468\u001b[0m         \u001b[0mload\u001b[0m\u001b[0;34m(\u001b[0m\u001b[0mself\u001b[0m\u001b[0;34m)\u001b[0m\u001b[0;34m\u001b[0m\u001b[0;34m\u001b[0m\u001b[0m\n",
      "\u001b[0;32m~/opt/miniconda3/envs/Visualize-PP/lib/python3.9/site-packages/torch/nn/modules/module.py\u001b[0m in \u001b[0;36mload\u001b[0;34m(module, prefix)\u001b[0m\n\u001b[1;32m   1460\u001b[0m         \u001b[0;32mdef\u001b[0m \u001b[0mload\u001b[0m\u001b[0;34m(\u001b[0m\u001b[0mmodule\u001b[0m\u001b[0;34m,\u001b[0m \u001b[0mprefix\u001b[0m\u001b[0;34m=\u001b[0m\u001b[0;34m''\u001b[0m\u001b[0;34m)\u001b[0m\u001b[0;34m:\u001b[0m\u001b[0;34m\u001b[0m\u001b[0;34m\u001b[0m\u001b[0m\n\u001b[1;32m   1461\u001b[0m             \u001b[0mlocal_metadata\u001b[0m \u001b[0;34m=\u001b[0m \u001b[0;34m{\u001b[0m\u001b[0;34m}\u001b[0m \u001b[0;32mif\u001b[0m \u001b[0mmetadata\u001b[0m \u001b[0;32mis\u001b[0m \u001b[0;32mNone\u001b[0m \u001b[0;32melse\u001b[0m \u001b[0mmetadata\u001b[0m\u001b[0;34m.\u001b[0m\u001b[0mget\u001b[0m\u001b[0;34m(\u001b[0m\u001b[0mprefix\u001b[0m\u001b[0;34m[\u001b[0m\u001b[0;34m:\u001b[0m\u001b[0;34m-\u001b[0m\u001b[0;36m1\u001b[0m\u001b[0;34m]\u001b[0m\u001b[0;34m,\u001b[0m \u001b[0;34m{\u001b[0m\u001b[0;34m}\u001b[0m\u001b[0;34m)\u001b[0m\u001b[0;34m\u001b[0m\u001b[0;34m\u001b[0m\u001b[0m\n\u001b[0;32m-> 1462\u001b[0;31m             module._load_from_state_dict(\n\u001b[0m\u001b[1;32m   1463\u001b[0m                 state_dict, prefix, local_metadata, True, missing_keys, unexpected_keys, error_msgs)\n\u001b[1;32m   1464\u001b[0m             \u001b[0;32mfor\u001b[0m \u001b[0mname\u001b[0m\u001b[0;34m,\u001b[0m \u001b[0mchild\u001b[0m \u001b[0;32min\u001b[0m \u001b[0mmodule\u001b[0m\u001b[0;34m.\u001b[0m\u001b[0m_modules\u001b[0m\u001b[0;34m.\u001b[0m\u001b[0mitems\u001b[0m\u001b[0;34m(\u001b[0m\u001b[0;34m)\u001b[0m\u001b[0;34m:\u001b[0m\u001b[0;34m\u001b[0m\u001b[0;34m\u001b[0m\u001b[0m\n",
      "\u001b[0;32m~/opt/miniconda3/envs/Visualize-PP/lib/python3.9/site-packages/torch/nn/modules/module.py\u001b[0m in \u001b[0;36m_load_from_state_dict\u001b[0;34m(self, state_dict, prefix, local_metadata, strict, missing_keys, unexpected_keys, error_msgs)\u001b[0m\n\u001b[1;32m   1402\u001b[0m                                       \u001b[0;34m'whose dimensions in the checkpoint are {}, '\u001b[0m\u001b[0;34m\u001b[0m\u001b[0;34m\u001b[0m\u001b[0m\n\u001b[1;32m   1403\u001b[0m                                       \u001b[0;34m'an exception occurred : {}.'\u001b[0m\u001b[0;34m\u001b[0m\u001b[0;34m\u001b[0m\u001b[0m\n\u001b[0;32m-> 1404\u001b[0;31m                                       .format(key, param.size(), input_param.size(), ex.args))\n\u001b[0m\u001b[1;32m   1405\u001b[0m             \u001b[0;32melif\u001b[0m \u001b[0mstrict\u001b[0m\u001b[0;34m:\u001b[0m\u001b[0;34m\u001b[0m\u001b[0;34m\u001b[0m\u001b[0m\n\u001b[1;32m   1406\u001b[0m                 \u001b[0mmissing_keys\u001b[0m\u001b[0;34m.\u001b[0m\u001b[0mappend\u001b[0m\u001b[0;34m(\u001b[0m\u001b[0mkey\u001b[0m\u001b[0;34m)\u001b[0m\u001b[0;34m\u001b[0m\u001b[0;34m\u001b[0m\u001b[0m\n",
      "\u001b[0;31mTypeError\u001b[0m: 'int' object is not callable"
     ]
    }
   ],
   "source": [
    "from model.AlexNet_torch import alexnet as alexnet_torch\n",
    "from model.AlexNet_paddle import alexnet as alexnet\n",
    "\n",
    "model = alexnet(False)\n",
    "model_torch = alexnet_torch(False)\n",
    "\n",
    "i = 0\n",
    "weight = {}\n",
    "for k, v in model_torch.state_dict().items():\n",
    "    weight[k] = npy[i]\n",
    "    i = i + 1\n",
    "torch.save(weight ,'tmp.pkl')\n",
    "model_torch.load_state_dict(torch.load(\"tmp.pkl\"))"
   ]
  },
  {
   "cell_type": "code",
   "execution_count": null,
   "id": "17820162",
   "metadata": {},
   "outputs": [],
   "source": []
  }
 ],
 "metadata": {
  "kernelspec": {
   "display_name": "Python 3 (ipykernel)",
   "language": "python",
   "name": "python3"
  },
  "language_info": {
   "codemirror_mode": {
    "name": "ipython",
    "version": 3
   },
   "file_extension": ".py",
   "mimetype": "text/x-python",
   "name": "python",
   "nbconvert_exporter": "python",
   "pygments_lexer": "ipython3",
   "version": "3.9.7"
  }
 },
 "nbformat": 4,
 "nbformat_minor": 5
}
