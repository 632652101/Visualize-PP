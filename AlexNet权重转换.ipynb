{
 "cells": [
  {
   "cell_type": "code",
   "execution_count": 29,
   "id": "0518f8c5",
   "metadata": {},
   "outputs": [],
   "source": [
    "import torchvision.models as models\n",
    "import torch"
   ]
  },
  {
   "cell_type": "code",
   "execution_count": 2,
   "id": "b72338cf",
   "metadata": {},
   "outputs": [
    {
     "name": "stderr",
     "output_type": "stream",
     "text": [
      "Downloading: \"https://download.pytorch.org/models/alexnet-owt-7be5be79.pth\" to /Users/mac/.cache/torch/hub/checkpoints/alexnet-owt-7be5be79.pth\n"
     ]
    },
    {
     "data": {
      "application/vnd.jupyter.widget-view+json": {
       "model_id": "b6ea9b25eebc40d99ad3cf0c591ed2de",
       "version_major": 2,
       "version_minor": 0
      },
      "text/plain": [
       "  0%|          | 0.00/233M [00:00<?, ?B/s]"
      ]
     },
     "metadata": {},
     "output_type": "display_data"
    }
   ],
   "source": [
    "model = models.alexnet(pretrained=True)"
   ]
  },
  {
   "cell_type": "code",
   "execution_count": 4,
   "id": "a39e1630",
   "metadata": {},
   "outputs": [],
   "source": [
    "torch.save(model.state_dict(), 'alexnet-torch.pth')"
   ]
  },
  {
   "cell_type": "code",
   "execution_count": 5,
   "id": "75f7cf9d",
   "metadata": {},
   "outputs": [],
   "source": [
    "npy=[]\n",
    "for k, v in model.state_dict().items():\n",
    "    npy.append(v.numpy())"
   ]
  },
  {
   "cell_type": "code",
   "execution_count": 37,
   "id": "6b4b1f08",
   "metadata": {},
   "outputs": [
    {
     "data": {
      "text/plain": [
       "AlexNet(\n",
       "  (features): Sequential(\n",
       "    (0): Conv2D(3, 64, kernel_size=[11, 11], stride=[4, 4], padding=2, data_format=NCHW)\n",
       "    (1): ReLU()\n",
       "    (2): MaxPool2D(kernel_size=3, stride=2, padding=0)\n",
       "    (3): Conv2D(64, 192, kernel_size=[5, 5], padding=2, data_format=NCHW)\n",
       "    (4): ReLU()\n",
       "    (5): MaxPool2D(kernel_size=3, stride=2, padding=0)\n",
       "    (6): Conv2D(192, 384, kernel_size=[3, 3], padding=1, data_format=NCHW)\n",
       "    (7): ReLU()\n",
       "    (8): Conv2D(384, 256, kernel_size=[3, 3], padding=1, data_format=NCHW)\n",
       "    (9): ReLU()\n",
       "    (10): Conv2D(256, 256, kernel_size=[3, 3], padding=1, data_format=NCHW)\n",
       "    (11): ReLU()\n",
       "    (12): MaxPool2D(kernel_size=3, stride=2, padding=0)\n",
       "  )\n",
       "  (avgpool): AdaptiveAvgPool2D(output_size=(6, 6))\n",
       "  (classifier): Sequential(\n",
       "    (0): Dropout(p=0.5, axis=None, mode=upscale_in_train)\n",
       "    (1): Linear(in_features=9216, out_features=4096, dtype=float32)\n",
       "    (2): ReLU()\n",
       "    (3): Dropout(p=0.5, axis=None, mode=upscale_in_train)\n",
       "    (4): Linear(in_features=4096, out_features=4096, dtype=float32)\n",
       "    (5): ReLU()\n",
       "    (6): Linear(in_features=4096, out_features=1000, dtype=float32)\n",
       "  )\n",
       ")"
      ]
     },
     "execution_count": 37,
     "metadata": {},
     "output_type": "execute_result"
    }
   ],
   "source": [
    "import model.AlexNet as alexnet\n",
    "from model.AlexNet import alexnet\n",
    "pp_model = alexnet()\n",
    "pp_model"
   ]
  },
  {
   "cell_type": "code",
   "execution_count": 40,
   "id": "7631b56c",
   "metadata": {},
   "outputs": [
    {
     "name": "stdout",
     "output_type": "stream",
     "text": [
      "(9216, 4096)\t(4096, 9216)\n",
      "(4096, 1000)\t(1000, 4096)\n"
     ]
    }
   ],
   "source": [
    "weight = {}\n",
    "i = 0\n",
    "for key, value in pp_model.state_dict().items():\n",
    "    if(value.numpy().shape != tuple(npy[i].shape)):\n",
    "        print(str(value.numpy().shape) + \"\\t\" + str(npy[i].shape))\n",
    "        weight[key] = npy[i].T\n",
    "    else:\n",
    "        weight[key] = npy[i]\n",
    "    i = i + 1\n",
    "\n",
    "pp_model.load_dict(weight)\n",
    "import paddle\n",
    "paddle.save(pp_model.state_dict(), 'alexnet-torch2paddle.padparams')"
   ]
  },
  {
   "cell_type": "code",
   "execution_count": 45,
   "id": "ff222dec",
   "metadata": {},
   "outputs": [
    {
     "name": "stdout",
     "output_type": "stream",
     "text": [
      "features.0.weight\n",
      "features.0.bias\n",
      "features.3.weight\n",
      "features.3.bias\n",
      "features.6.weight\n",
      "features.6.bias\n",
      "features.8.weight\n",
      "features.8.bias\n",
      "features.10.weight\n",
      "features.10.bias\n",
      "classifier.1.weight\n",
      "classifier.1.bias\n",
      "classifier.4.weight\n",
      "classifier.4.bias\n",
      "classifier.6.weight\n",
      "classifier.6.bias\n"
     ]
    }
   ],
   "source": [
    "for name, key in pp_model.state_dict().items():\n",
    "    print(name)"
   ]
  },
  {
   "cell_type": "code",
   "execution_count": null,
   "id": "5e08c462",
   "metadata": {},
   "outputs": [],
   "source": []
  }
 ],
 "metadata": {
  "kernelspec": {
   "display_name": "Python 3",
   "language": "python",
   "name": "python3"
  },
  "language_info": {
   "codemirror_mode": {
    "name": "ipython",
    "version": 3
   },
   "file_extension": ".py",
   "mimetype": "text/x-python",
   "name": "python",
   "nbconvert_exporter": "python",
   "pygments_lexer": "ipython3",
   "version": "3.6.13"
  }
 },
 "nbformat": 4,
 "nbformat_minor": 5
}
